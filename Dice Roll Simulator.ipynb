{
 "cells": [
  {
   "cell_type": "code",
   "execution_count": null,
   "metadata": {},
   "outputs": [
    {
     "name": "stdout",
     "output_type": "stream",
     "text": [
      "Rolling the dices \n",
      "Printing the number \n",
      "3\n",
      "5\n",
      "Roll the Dices again?yes\n",
      "Rolling the dices \n",
      "Printing the number \n",
      "3\n",
      "4\n",
      "Roll the Dices again?y\n",
      "Rolling the dices \n",
      "Printing the number \n",
      "2\n",
      "2\n"
     ]
    }
   ],
   "source": [
    "import random\n",
    "\n",
    "min_value = 1;\n",
    "max_value = 6;\n",
    "\n",
    "roll_again = \"yes\";\n",
    "\n",
    "while roll_again == \"yes\" or \"y\":\n",
    "    print(\"Rolling the dices \")\n",
    "    print(\"Printing the number \")\n",
    "    \n",
    "    print(random.randint(min_value, max_value))\n",
    "    print(random.randint(min_value, max_value))\n",
    "    \n",
    "    roll_again = input(\"Roll the Dices again?\")"
   ]
  },
  {
   "cell_type": "code",
   "execution_count": null,
   "metadata": {},
   "outputs": [],
   "source": []
  }
 ],
 "metadata": {
  "kernelspec": {
   "display_name": "Python 3",
   "language": "python",
   "name": "python3"
  },
  "language_info": {
   "codemirror_mode": {
    "name": "ipython",
    "version": 3
   },
   "file_extension": ".py",
   "mimetype": "text/x-python",
   "name": "python",
   "nbconvert_exporter": "python",
   "pygments_lexer": "ipython3",
   "version": "3.8.3"
  }
 },
 "nbformat": 4,
 "nbformat_minor": 4
}
